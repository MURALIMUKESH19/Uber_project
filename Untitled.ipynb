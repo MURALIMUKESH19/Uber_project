{
 "cells": [
  {
   "cell_type": "code",
   "execution_count": 1,
   "id": "0e406ad9-62c7-4cfd-8c26-500bef17a49e",
   "metadata": {},
   "outputs": [],
   "source": [
    "import numpy as np\n",
    "import pandas as pd\n",
    "import matplotlib.pyplot as plt\n",
    "import seaborn as sns\n"
   ]
  },
  {
   "cell_type": "code",
   "execution_count": 2,
   "id": "f0f4053d-34ea-495d-a9a4-85df1e7fe726",
   "metadata": {},
   "outputs": [
    {
     "data": {
      "text/html": [
       "<div>\n",
       "<style scoped>\n",
       "    .dataframe tbody tr th:only-of-type {\n",
       "        vertical-align: middle;\n",
       "    }\n",
       "\n",
       "    .dataframe tbody tr th {\n",
       "        vertical-align: top;\n",
       "    }\n",
       "\n",
       "    .dataframe thead th {\n",
       "        text-align: right;\n",
       "    }\n",
       "</style>\n",
       "<table border=\"1\" class=\"dataframe\">\n",
       "  <thead>\n",
       "    <tr style=\"text-align: right;\">\n",
       "      <th></th>\n",
       "      <th>Unnamed: 0</th>\n",
       "      <th>key</th>\n",
       "      <th>fare_amount</th>\n",
       "      <th>pickup_datetime</th>\n",
       "      <th>pickup_longitude</th>\n",
       "      <th>pickup_latitude</th>\n",
       "      <th>dropoff_longitude</th>\n",
       "      <th>dropoff_latitude</th>\n",
       "      <th>passenger_count</th>\n",
       "    </tr>\n",
       "  </thead>\n",
       "  <tbody>\n",
       "    <tr>\n",
       "      <th>0</th>\n",
       "      <td>24238194</td>\n",
       "      <td>2015-05-07 19:52:06.0000003</td>\n",
       "      <td>7.5</td>\n",
       "      <td>2015-05-07 19:52:06 UTC</td>\n",
       "      <td>-73.999817</td>\n",
       "      <td>40.738354</td>\n",
       "      <td>-73.999512</td>\n",
       "      <td>40.723217</td>\n",
       "      <td>1</td>\n",
       "    </tr>\n",
       "    <tr>\n",
       "      <th>1</th>\n",
       "      <td>27835199</td>\n",
       "      <td>2009-07-17 20:04:56.0000002</td>\n",
       "      <td>7.7</td>\n",
       "      <td>2009-07-17 20:04:56 UTC</td>\n",
       "      <td>-73.994355</td>\n",
       "      <td>40.728225</td>\n",
       "      <td>-73.994710</td>\n",
       "      <td>40.750325</td>\n",
       "      <td>1</td>\n",
       "    </tr>\n",
       "    <tr>\n",
       "      <th>2</th>\n",
       "      <td>44984355</td>\n",
       "      <td>2009-08-24 21:45:00.00000061</td>\n",
       "      <td>12.9</td>\n",
       "      <td>2009-08-24 21:45:00 UTC</td>\n",
       "      <td>-74.005043</td>\n",
       "      <td>40.740770</td>\n",
       "      <td>-73.962565</td>\n",
       "      <td>40.772647</td>\n",
       "      <td>1</td>\n",
       "    </tr>\n",
       "    <tr>\n",
       "      <th>3</th>\n",
       "      <td>25894730</td>\n",
       "      <td>2009-06-26 08:22:21.0000001</td>\n",
       "      <td>5.3</td>\n",
       "      <td>2009-06-26 08:22:21 UTC</td>\n",
       "      <td>-73.976124</td>\n",
       "      <td>40.790844</td>\n",
       "      <td>-73.965316</td>\n",
       "      <td>40.803349</td>\n",
       "      <td>3</td>\n",
       "    </tr>\n",
       "    <tr>\n",
       "      <th>4</th>\n",
       "      <td>17610152</td>\n",
       "      <td>2014-08-28 17:47:00.000000188</td>\n",
       "      <td>16.0</td>\n",
       "      <td>2014-08-28 17:47:00 UTC</td>\n",
       "      <td>-73.925023</td>\n",
       "      <td>40.744085</td>\n",
       "      <td>-73.973082</td>\n",
       "      <td>40.761247</td>\n",
       "      <td>5</td>\n",
       "    </tr>\n",
       "  </tbody>\n",
       "</table>\n",
       "</div>"
      ],
      "text/plain": [
       "   Unnamed: 0                            key  fare_amount  \\\n",
       "0    24238194    2015-05-07 19:52:06.0000003          7.5   \n",
       "1    27835199    2009-07-17 20:04:56.0000002          7.7   \n",
       "2    44984355   2009-08-24 21:45:00.00000061         12.9   \n",
       "3    25894730    2009-06-26 08:22:21.0000001          5.3   \n",
       "4    17610152  2014-08-28 17:47:00.000000188         16.0   \n",
       "\n",
       "           pickup_datetime  pickup_longitude  pickup_latitude  \\\n",
       "0  2015-05-07 19:52:06 UTC        -73.999817        40.738354   \n",
       "1  2009-07-17 20:04:56 UTC        -73.994355        40.728225   \n",
       "2  2009-08-24 21:45:00 UTC        -74.005043        40.740770   \n",
       "3  2009-06-26 08:22:21 UTC        -73.976124        40.790844   \n",
       "4  2014-08-28 17:47:00 UTC        -73.925023        40.744085   \n",
       "\n",
       "   dropoff_longitude  dropoff_latitude  passenger_count  \n",
       "0         -73.999512         40.723217                1  \n",
       "1         -73.994710         40.750325                1  \n",
       "2         -73.962565         40.772647                1  \n",
       "3         -73.965316         40.803349                3  \n",
       "4         -73.973082         40.761247                5  "
      ]
     },
     "execution_count": 2,
     "metadata": {},
     "output_type": "execute_result"
    }
   ],
   "source": [
    "df = pd.read_csv('uber.csv')\n",
    "df.head()\n"
   ]
  },
  {
   "cell_type": "code",
   "execution_count": 3,
   "id": "03ffaed4-b28e-45cb-be07-c3e76c83cd1b",
   "metadata": {},
   "outputs": [
    {
     "name": "stdout",
     "output_type": "stream",
     "text": [
      "<class 'pandas.core.frame.DataFrame'>\n",
      "RangeIndex: 200000 entries, 0 to 199999\n",
      "Data columns (total 9 columns):\n",
      " #   Column             Non-Null Count   Dtype  \n",
      "---  ------             --------------   -----  \n",
      " 0   Unnamed: 0         200000 non-null  int64  \n",
      " 1   key                200000 non-null  object \n",
      " 2   fare_amount        200000 non-null  float64\n",
      " 3   pickup_datetime    200000 non-null  object \n",
      " 4   pickup_longitude   200000 non-null  float64\n",
      " 5   pickup_latitude    200000 non-null  float64\n",
      " 6   dropoff_longitude  199999 non-null  float64\n",
      " 7   dropoff_latitude   199999 non-null  float64\n",
      " 8   passenger_count    200000 non-null  int64  \n",
      "dtypes: float64(5), int64(2), object(2)\n",
      "memory usage: 13.7+ MB\n"
     ]
    }
   ],
   "source": [
    "df.info()\n"
   ]
  },
  {
   "cell_type": "code",
   "execution_count": 4,
   "id": "fe9546c8-7f1e-4bd8-85ca-b7e28ec5dca3",
   "metadata": {},
   "outputs": [
    {
     "data": {
      "text/html": [
       "<div>\n",
       "<style scoped>\n",
       "    .dataframe tbody tr th:only-of-type {\n",
       "        vertical-align: middle;\n",
       "    }\n",
       "\n",
       "    .dataframe tbody tr th {\n",
       "        vertical-align: top;\n",
       "    }\n",
       "\n",
       "    .dataframe thead th {\n",
       "        text-align: right;\n",
       "    }\n",
       "</style>\n",
       "<table border=\"1\" class=\"dataframe\">\n",
       "  <thead>\n",
       "    <tr style=\"text-align: right;\">\n",
       "      <th></th>\n",
       "      <th>Unnamed: 0</th>\n",
       "      <th>fare_amount</th>\n",
       "      <th>pickup_longitude</th>\n",
       "      <th>pickup_latitude</th>\n",
       "      <th>dropoff_longitude</th>\n",
       "      <th>dropoff_latitude</th>\n",
       "      <th>passenger_count</th>\n",
       "    </tr>\n",
       "  </thead>\n",
       "  <tbody>\n",
       "    <tr>\n",
       "      <th>count</th>\n",
       "      <td>2.000000e+05</td>\n",
       "      <td>200000.000000</td>\n",
       "      <td>200000.000000</td>\n",
       "      <td>200000.000000</td>\n",
       "      <td>199999.000000</td>\n",
       "      <td>199999.000000</td>\n",
       "      <td>200000.000000</td>\n",
       "    </tr>\n",
       "    <tr>\n",
       "      <th>mean</th>\n",
       "      <td>2.771250e+07</td>\n",
       "      <td>11.359955</td>\n",
       "      <td>-72.527638</td>\n",
       "      <td>39.935885</td>\n",
       "      <td>-72.525292</td>\n",
       "      <td>39.923890</td>\n",
       "      <td>1.684535</td>\n",
       "    </tr>\n",
       "    <tr>\n",
       "      <th>std</th>\n",
       "      <td>1.601382e+07</td>\n",
       "      <td>9.901776</td>\n",
       "      <td>11.437787</td>\n",
       "      <td>7.720539</td>\n",
       "      <td>13.117408</td>\n",
       "      <td>6.794829</td>\n",
       "      <td>1.385997</td>\n",
       "    </tr>\n",
       "    <tr>\n",
       "      <th>min</th>\n",
       "      <td>1.000000e+00</td>\n",
       "      <td>-52.000000</td>\n",
       "      <td>-1340.648410</td>\n",
       "      <td>-74.015515</td>\n",
       "      <td>-3356.666300</td>\n",
       "      <td>-881.985513</td>\n",
       "      <td>0.000000</td>\n",
       "    </tr>\n",
       "    <tr>\n",
       "      <th>25%</th>\n",
       "      <td>1.382535e+07</td>\n",
       "      <td>6.000000</td>\n",
       "      <td>-73.992065</td>\n",
       "      <td>40.734796</td>\n",
       "      <td>-73.991407</td>\n",
       "      <td>40.733823</td>\n",
       "      <td>1.000000</td>\n",
       "    </tr>\n",
       "    <tr>\n",
       "      <th>50%</th>\n",
       "      <td>2.774550e+07</td>\n",
       "      <td>8.500000</td>\n",
       "      <td>-73.981823</td>\n",
       "      <td>40.752592</td>\n",
       "      <td>-73.980093</td>\n",
       "      <td>40.753042</td>\n",
       "      <td>1.000000</td>\n",
       "    </tr>\n",
       "    <tr>\n",
       "      <th>75%</th>\n",
       "      <td>4.155530e+07</td>\n",
       "      <td>12.500000</td>\n",
       "      <td>-73.967154</td>\n",
       "      <td>40.767158</td>\n",
       "      <td>-73.963658</td>\n",
       "      <td>40.768001</td>\n",
       "      <td>2.000000</td>\n",
       "    </tr>\n",
       "    <tr>\n",
       "      <th>max</th>\n",
       "      <td>5.542357e+07</td>\n",
       "      <td>499.000000</td>\n",
       "      <td>57.418457</td>\n",
       "      <td>1644.421482</td>\n",
       "      <td>1153.572603</td>\n",
       "      <td>872.697628</td>\n",
       "      <td>208.000000</td>\n",
       "    </tr>\n",
       "  </tbody>\n",
       "</table>\n",
       "</div>"
      ],
      "text/plain": [
       "         Unnamed: 0    fare_amount  pickup_longitude  pickup_latitude  \\\n",
       "count  2.000000e+05  200000.000000     200000.000000    200000.000000   \n",
       "mean   2.771250e+07      11.359955        -72.527638        39.935885   \n",
       "std    1.601382e+07       9.901776         11.437787         7.720539   \n",
       "min    1.000000e+00     -52.000000      -1340.648410       -74.015515   \n",
       "25%    1.382535e+07       6.000000        -73.992065        40.734796   \n",
       "50%    2.774550e+07       8.500000        -73.981823        40.752592   \n",
       "75%    4.155530e+07      12.500000        -73.967154        40.767158   \n",
       "max    5.542357e+07     499.000000         57.418457      1644.421482   \n",
       "\n",
       "       dropoff_longitude  dropoff_latitude  passenger_count  \n",
       "count      199999.000000     199999.000000    200000.000000  \n",
       "mean          -72.525292         39.923890         1.684535  \n",
       "std            13.117408          6.794829         1.385997  \n",
       "min         -3356.666300       -881.985513         0.000000  \n",
       "25%           -73.991407         40.733823         1.000000  \n",
       "50%           -73.980093         40.753042         1.000000  \n",
       "75%           -73.963658         40.768001         2.000000  \n",
       "max          1153.572603        872.697628       208.000000  "
      ]
     },
     "execution_count": 4,
     "metadata": {},
     "output_type": "execute_result"
    }
   ],
   "source": [
    "\n",
    "# nerating Statistical Summary of the DataFrame\n",
    "df.describe()\n"
   ]
  },
  {
   "cell_type": "code",
   "execution_count": 5,
   "id": "296f1af4-5e38-4e64-91b9-a3484b3b54fc",
   "metadata": {},
   "outputs": [],
   "source": [
    "#  Dropping the 'Unnamed: 0' Column from the DataFrame\n",
    "df.drop(columns='Unnamed: 0',axis= 1,inplace=True)"
   ]
  },
  {
   "cell_type": "code",
   "execution_count": 6,
   "id": "53e693a5-340b-4ce7-9851-dcd275db6f09",
   "metadata": {},
   "outputs": [
    {
     "data": {
      "text/plain": [
       "key                  0\n",
       "fare_amount          0\n",
       "pickup_datetime      0\n",
       "pickup_longitude     0\n",
       "pickup_latitude      0\n",
       "dropoff_longitude    1\n",
       "dropoff_latitude     1\n",
       "passenger_count      0\n",
       "dtype: int64"
      ]
     },
     "execution_count": 6,
     "metadata": {},
     "output_type": "execute_result"
    }
   ],
   "source": [
    "\n",
    "# Checking for Missing Values in the DataFrame\n",
    "df.isna().sum()"
   ]
  },
  {
   "cell_type": "code",
   "execution_count": 7,
   "id": "d588f96a-d596-423e-98e1-d651aca7ad26",
   "metadata": {},
   "outputs": [],
   "source": [
    "\n",
    "# Removing Rows with Missing Dropoff Longitude\n",
    "df = df.drop(df[df['dropoff_longitude'].isnull()].index[0])"
   ]
  },
  {
   "cell_type": "code",
   "execution_count": 8,
   "id": "0c4395b0-8d14-4c37-a5c4-0c15db942759",
   "metadata": {},
   "outputs": [
    {
     "data": {
      "text/html": [
       "<div>\n",
       "<style scoped>\n",
       "    .dataframe tbody tr th:only-of-type {\n",
       "        vertical-align: middle;\n",
       "    }\n",
       "\n",
       "    .dataframe tbody tr th {\n",
       "        vertical-align: top;\n",
       "    }\n",
       "\n",
       "    .dataframe thead th {\n",
       "        text-align: right;\n",
       "    }\n",
       "</style>\n",
       "<table border=\"1\" class=\"dataframe\">\n",
       "  <thead>\n",
       "    <tr style=\"text-align: right;\">\n",
       "      <th></th>\n",
       "      <th>key</th>\n",
       "      <th>fare_amount</th>\n",
       "      <th>pickup_datetime</th>\n",
       "      <th>pickup_longitude</th>\n",
       "      <th>pickup_latitude</th>\n",
       "      <th>dropoff_longitude</th>\n",
       "      <th>dropoff_latitude</th>\n",
       "      <th>passenger_count</th>\n",
       "    </tr>\n",
       "  </thead>\n",
       "  <tbody>\n",
       "    <tr>\n",
       "      <th>0</th>\n",
       "      <td>2015-05-07 19:52:06.0000003</td>\n",
       "      <td>7.5</td>\n",
       "      <td>2015-05-07 19:52:06 UTC</td>\n",
       "      <td>-73.999817</td>\n",
       "      <td>40.738354</td>\n",
       "      <td>-73.999512</td>\n",
       "      <td>40.723217</td>\n",
       "      <td>1</td>\n",
       "    </tr>\n",
       "    <tr>\n",
       "      <th>1</th>\n",
       "      <td>2009-07-17 20:04:56.0000002</td>\n",
       "      <td>7.7</td>\n",
       "      <td>2009-07-17 20:04:56 UTC</td>\n",
       "      <td>-73.994355</td>\n",
       "      <td>40.728225</td>\n",
       "      <td>-73.994710</td>\n",
       "      <td>40.750325</td>\n",
       "      <td>1</td>\n",
       "    </tr>\n",
       "    <tr>\n",
       "      <th>2</th>\n",
       "      <td>2009-08-24 21:45:00.00000061</td>\n",
       "      <td>12.9</td>\n",
       "      <td>2009-08-24 21:45:00 UTC</td>\n",
       "      <td>-74.005043</td>\n",
       "      <td>40.740770</td>\n",
       "      <td>-73.962565</td>\n",
       "      <td>40.772647</td>\n",
       "      <td>1</td>\n",
       "    </tr>\n",
       "    <tr>\n",
       "      <th>3</th>\n",
       "      <td>2009-06-26 08:22:21.0000001</td>\n",
       "      <td>5.3</td>\n",
       "      <td>2009-06-26 08:22:21 UTC</td>\n",
       "      <td>-73.976124</td>\n",
       "      <td>40.790844</td>\n",
       "      <td>-73.965316</td>\n",
       "      <td>40.803349</td>\n",
       "      <td>3</td>\n",
       "    </tr>\n",
       "    <tr>\n",
       "      <th>4</th>\n",
       "      <td>2014-08-28 17:47:00.000000188</td>\n",
       "      <td>16.0</td>\n",
       "      <td>2014-08-28 17:47:00 UTC</td>\n",
       "      <td>-73.925023</td>\n",
       "      <td>40.744085</td>\n",
       "      <td>-73.973082</td>\n",
       "      <td>40.761247</td>\n",
       "      <td>5</td>\n",
       "    </tr>\n",
       "    <tr>\n",
       "      <th>...</th>\n",
       "      <td>...</td>\n",
       "      <td>...</td>\n",
       "      <td>...</td>\n",
       "      <td>...</td>\n",
       "      <td>...</td>\n",
       "      <td>...</td>\n",
       "      <td>...</td>\n",
       "      <td>...</td>\n",
       "    </tr>\n",
       "    <tr>\n",
       "      <th>199995</th>\n",
       "      <td>2012-10-28 10:49:00.00000053</td>\n",
       "      <td>3.0</td>\n",
       "      <td>2012-10-28 10:49:00 UTC</td>\n",
       "      <td>-73.987042</td>\n",
       "      <td>40.739367</td>\n",
       "      <td>-73.986525</td>\n",
       "      <td>40.740297</td>\n",
       "      <td>1</td>\n",
       "    </tr>\n",
       "    <tr>\n",
       "      <th>199996</th>\n",
       "      <td>2014-03-14 01:09:00.0000008</td>\n",
       "      <td>7.5</td>\n",
       "      <td>2014-03-14 01:09:00 UTC</td>\n",
       "      <td>-73.984722</td>\n",
       "      <td>40.736837</td>\n",
       "      <td>-74.006672</td>\n",
       "      <td>40.739620</td>\n",
       "      <td>1</td>\n",
       "    </tr>\n",
       "    <tr>\n",
       "      <th>199997</th>\n",
       "      <td>2009-06-29 00:42:00.00000078</td>\n",
       "      <td>30.9</td>\n",
       "      <td>2009-06-29 00:42:00 UTC</td>\n",
       "      <td>-73.986017</td>\n",
       "      <td>40.756487</td>\n",
       "      <td>-73.858957</td>\n",
       "      <td>40.692588</td>\n",
       "      <td>2</td>\n",
       "    </tr>\n",
       "    <tr>\n",
       "      <th>199998</th>\n",
       "      <td>2015-05-20 14:56:25.0000004</td>\n",
       "      <td>14.5</td>\n",
       "      <td>2015-05-20 14:56:25 UTC</td>\n",
       "      <td>-73.997124</td>\n",
       "      <td>40.725452</td>\n",
       "      <td>-73.983215</td>\n",
       "      <td>40.695415</td>\n",
       "      <td>1</td>\n",
       "    </tr>\n",
       "    <tr>\n",
       "      <th>199999</th>\n",
       "      <td>2010-05-15 04:08:00.00000076</td>\n",
       "      <td>14.1</td>\n",
       "      <td>2010-05-15 04:08:00 UTC</td>\n",
       "      <td>-73.984395</td>\n",
       "      <td>40.720077</td>\n",
       "      <td>-73.985508</td>\n",
       "      <td>40.768793</td>\n",
       "      <td>1</td>\n",
       "    </tr>\n",
       "  </tbody>\n",
       "</table>\n",
       "<p>199999 rows × 8 columns</p>\n",
       "</div>"
      ],
      "text/plain": [
       "                                  key  fare_amount          pickup_datetime  \\\n",
       "0         2015-05-07 19:52:06.0000003          7.5  2015-05-07 19:52:06 UTC   \n",
       "1         2009-07-17 20:04:56.0000002          7.7  2009-07-17 20:04:56 UTC   \n",
       "2        2009-08-24 21:45:00.00000061         12.9  2009-08-24 21:45:00 UTC   \n",
       "3         2009-06-26 08:22:21.0000001          5.3  2009-06-26 08:22:21 UTC   \n",
       "4       2014-08-28 17:47:00.000000188         16.0  2014-08-28 17:47:00 UTC   \n",
       "...                               ...          ...                      ...   \n",
       "199995   2012-10-28 10:49:00.00000053          3.0  2012-10-28 10:49:00 UTC   \n",
       "199996    2014-03-14 01:09:00.0000008          7.5  2014-03-14 01:09:00 UTC   \n",
       "199997   2009-06-29 00:42:00.00000078         30.9  2009-06-29 00:42:00 UTC   \n",
       "199998    2015-05-20 14:56:25.0000004         14.5  2015-05-20 14:56:25 UTC   \n",
       "199999   2010-05-15 04:08:00.00000076         14.1  2010-05-15 04:08:00 UTC   \n",
       "\n",
       "        pickup_longitude  pickup_latitude  dropoff_longitude  \\\n",
       "0             -73.999817        40.738354         -73.999512   \n",
       "1             -73.994355        40.728225         -73.994710   \n",
       "2             -74.005043        40.740770         -73.962565   \n",
       "3             -73.976124        40.790844         -73.965316   \n",
       "4             -73.925023        40.744085         -73.973082   \n",
       "...                  ...              ...                ...   \n",
       "199995        -73.987042        40.739367         -73.986525   \n",
       "199996        -73.984722        40.736837         -74.006672   \n",
       "199997        -73.986017        40.756487         -73.858957   \n",
       "199998        -73.997124        40.725452         -73.983215   \n",
       "199999        -73.984395        40.720077         -73.985508   \n",
       "\n",
       "        dropoff_latitude  passenger_count  \n",
       "0              40.723217                1  \n",
       "1              40.750325                1  \n",
       "2              40.772647                1  \n",
       "3              40.803349                3  \n",
       "4              40.761247                5  \n",
       "...                  ...              ...  \n",
       "199995         40.740297                1  \n",
       "199996         40.739620                1  \n",
       "199997         40.692588                2  \n",
       "199998         40.695415                1  \n",
       "199999         40.768793                1  \n",
       "\n",
       "[199999 rows x 8 columns]"
      ]
     },
     "execution_count": 8,
     "metadata": {},
     "output_type": "execute_result"
    }
   ],
   "source": [
    "# Displaying the DataFrame\n",
    "df"
   ]
  },
  {
   "cell_type": "code",
   "execution_count": 9,
   "id": "3902e1a6-f2e9-4d0e-a22f-faf3f5052332",
   "metadata": {},
   "outputs": [
    {
     "data": {
      "text/plain": [
       "key                  0\n",
       "fare_amount          0\n",
       "pickup_datetime      0\n",
       "pickup_longitude     0\n",
       "pickup_latitude      0\n",
       "dropoff_longitude    0\n",
       "dropoff_latitude     0\n",
       "passenger_count      0\n",
       "dtype: int64"
      ]
     },
     "execution_count": 9,
     "metadata": {},
     "output_type": "execute_result"
    }
   ],
   "source": [
    "# Rechecking Missing Values in the DataFrame\n",
    "df.isna().sum()"
   ]
  },
  {
   "cell_type": "code",
   "execution_count": 10,
   "id": "74604b00-9207-4f78-bba7-0484b14a77fc",
   "metadata": {},
   "outputs": [
    {
     "data": {
      "text/plain": [
       "fare_amount\n",
       "6.50      9684\n",
       "4.50      8247\n",
       "8.50      7521\n",
       "5.70      5858\n",
       "5.30      5838\n",
       "          ... \n",
       "140.25       1\n",
       "190.00       1\n",
       "45.16        1\n",
       "28.20        1\n",
       "89.10        1\n",
       "Name: count, Length: 1244, dtype: int64"
      ]
     },
     "execution_count": 10,
     "metadata": {},
     "output_type": "execute_result"
    }
   ],
   "source": [
    "\n",
    "# Counting Occurrences of Each Fare Amount\n",
    "df['fare_amount'].value_counts()"
   ]
  },
  {
   "cell_type": "code",
   "execution_count": 11,
   "id": "3cc340a2-90c0-4c38-8e47-b9bb48cd9d09",
   "metadata": {},
   "outputs": [],
   "source": [
    "# Removing Rows with Negative Fare Amounts\n",
    "df.drop(df[df['fare_amount'] < 0 ].index,inplace = True) # not logic"
   ]
  },
  {
   "cell_type": "code",
   "execution_count": 12,
   "id": "a9e877ec-686f-4775-8f4f-f0ae8ad50053",
   "metadata": {},
   "outputs": [
    {
     "data": {
      "image/png": "[encoded data removed]",
      "text/plain": [
       "<Figure size 2000x1000 with 1 Axes>"
      ]
     },
     "metadata": {},
     "output_type": "display_data"
    }
   ],
   "source": [
    "\n",
    "#  Setting Figure Size for Visualizations: Configures Seaborn plots to 20x10 inches for better visibility.\n",
    "sns.set(rc = {'figure.figsize':(20,10)})\n",
    "# Creating a Boxplot of Fare Amount Distribution\n",
    "sns.boxplot(data = df , x = 'fare_amount')\n",
    "#sns.stripplot(data = df , x = 'fare_amount')\n",
    "plt.show()"
   ]
  },
  {
   "cell_type": "code",
   "execution_count": 13,
   "id": "e763302a-6894-4747-9285-6d8aace885bd",
   "metadata": {},
   "outputs": [],
   "source": [
    "# Removes rows with invalid latitude values (outside -90 to 90 degrees).\n",
    "df = df.drop(df[((df['pickup_latitude'] > 90)  | (df['pickup_latitude'] < -90)) | ((df['dropoff_latitude'] > 90)  | (df['dropoff_latitude'] < -90))].index)"
   ]
  },
  {
   "cell_type": "code",
   "execution_count": 14,
   "id": "6c9bca4c-e832-4711-86e5-259dc15e3feb",
   "metadata": {},
   "outputs": [],
   "source": [
    "# Importing Great-Circle Distance Calculation Function\n",
    "from geopy.distance import great_circle\n",
    "#  Defines a function to calculate the great-circle distance between pickup and dropoff locations in kilometers.\n",
    "def great_circle_(x):\n",
    "    pickup = (x['pickup_latitude'],x['pickup_longitude'])\n",
    "    dropoff = (x['dropoff_latitude'],x['dropoff_longitude'])\n",
    "    km = great_circle(pickup , dropoff).kilometers\n",
    "    return km\n",
    "    \n",
    "# Adding Distance Column to DataFrame\n",
    "df['distance(km)'] = df.apply(great_circle_,axis=1)"
   ]
  },
  {
   "cell_type": "code",
   "execution_count": 15,
   "id": "13e0c957-2a46-42fd-a56f-dac9bb16c7a9",
   "metadata": {},
   "outputs": [
    {
     "data": {
      "text/plain": [
       "array([ 1.68332513,  2.45759336,  5.0363843 , ..., 12.85033727,\n",
       "        3.53972045,  5.41779113])"
      ]
     },
     "execution_count": 15,
     "metadata": {},
     "output_type": "execute_result"
    }
   ],
   "source": [
    "\n",
    "# Displaying Unique Distance Values in the DataFrame\n",
    "df['distance(km)'].unique()"
   ]
  },
  {
   "cell_type": "code",
   "execution_count": 16,
   "id": "7237cbbc-380a-44d0-b2e0-f65ad90f141a",
   "metadata": {},
   "outputs": [],
   "source": [
    "# Removing Longitude and Latitude Columns from DataFrame\n",
    "df.drop(columns=['pickup_longitude','pickup_latitude','dropoff_longitude','dropoff_latitude'],axis= 1,inplace=True)"
   ]
  },
  {
   "cell_type": "code",
   "execution_count": 17,
   "id": "30024c3a-6c2a-48f8-a3fb-d0452c851b32",
   "metadata": {},
   "outputs": [
    {
     "data": {
      "text/plain": [
       "distance(km)\n",
       "0.000000    5632\n",
       "0.000424       3\n",
       "0.000424       2\n",
       "0.000778       2\n",
       "1.683325       1\n",
       "            ... \n",
       "6.010277       1\n",
       "1.970134       1\n",
       "4.342956       1\n",
       "0.667166       1\n",
       "5.417791       1\n",
       "Name: count, Length: 194342, dtype: int64"
      ]
     },
     "execution_count": 17,
     "metadata": {},
     "output_type": "execute_result"
    }
   ],
   "source": [
    "# Counting Unique Distances in the DataFrame\n",
    "df['distance(km)'].value_counts()"
   ]
  },
  {
   "cell_type": "code",
   "execution_count": 18,
   "id": "0ae7d386-8f2e-4a6f-a285-6872cc4ad80f",
   "metadata": {},
   "outputs": [],
   "source": [
    "\n",
    "# Removing Rows with Zero Distance\n",
    "df.drop(df[df['distance(km)'] == 0].index,inplace= True)"
   ]
  },
  {
   "cell_type": "code",
   "execution_count": 19,
   "id": "878c757b-5c53-4327-81e5-64a981a7c8c1",
   "metadata": {},
   "outputs": [
    {
     "data": {
      "text/plain": [
       "distance(km)\n",
       "0.000424    3\n",
       "0.000424    2\n",
       "0.000778    2\n",
       "1.683325    1\n",
       "2.035887    1\n",
       "           ..\n",
       "6.010277    1\n",
       "1.970134    1\n",
       "4.342956    1\n",
       "0.667166    1\n",
       "5.417791    1\n",
       "Name: count, Length: 194341, dtype: int64"
      ]
     },
     "execution_count": 19,
     "metadata": {},
     "output_type": "execute_result"
    }
   ],
   "source": [
    "\n",
    "# Counting Occurrences of Each Distance Value\n",
    "df['distance(km)'].value_counts()"
   ]
  },
  {
   "cell_type": "code",
   "execution_count": 20,
   "id": "fddcff13-c497-48c7-a860-03d0fd1fc834",
   "metadata": {},
   "outputs": [
    {
     "data": {
      "text/html": [
       "<div>\n",
       "<style scoped>\n",
       "    .dataframe tbody tr th:only-of-type {\n",
       "        vertical-align: middle;\n",
       "    }\n",
       "\n",
       "    .dataframe tbody tr th {\n",
       "        vertical-align: top;\n",
       "    }\n",
       "\n",
       "    .dataframe thead th {\n",
       "        text-align: right;\n",
       "    }\n",
       "</style>\n",
       "<table border=\"1\" class=\"dataframe\">\n",
       "  <thead>\n",
       "    <tr style=\"text-align: right;\">\n",
       "      <th></th>\n",
       "      <th>fare_amount</th>\n",
       "      <th>passenger_count</th>\n",
       "      <th>distance(km)</th>\n",
       "    </tr>\n",
       "  </thead>\n",
       "  <tbody>\n",
       "    <tr>\n",
       "      <th>count</th>\n",
       "      <td>194345.000000</td>\n",
       "      <td>194345.000000</td>\n",
       "      <td>194345.000000</td>\n",
       "    </tr>\n",
       "    <tr>\n",
       "      <th>mean</th>\n",
       "      <td>11.355812</td>\n",
       "      <td>1.684844</td>\n",
       "      <td>21.265938</td>\n",
       "    </tr>\n",
       "    <tr>\n",
       "      <th>std</th>\n",
       "      <td>9.748558</td>\n",
       "      <td>1.388389</td>\n",
       "      <td>385.457571</td>\n",
       "    </tr>\n",
       "    <tr>\n",
       "      <th>min</th>\n",
       "      <td>0.000000</td>\n",
       "      <td>0.000000</td>\n",
       "      <td>0.000084</td>\n",
       "    </tr>\n",
       "    <tr>\n",
       "      <th>25%</th>\n",
       "      <td>6.000000</td>\n",
       "      <td>1.000000</td>\n",
       "      <td>1.281834</td>\n",
       "    </tr>\n",
       "    <tr>\n",
       "      <th>50%</th>\n",
       "      <td>8.500000</td>\n",
       "      <td>1.000000</td>\n",
       "      <td>2.184440</td>\n",
       "    </tr>\n",
       "    <tr>\n",
       "      <th>75%</th>\n",
       "      <td>12.500000</td>\n",
       "      <td>2.000000</td>\n",
       "      <td>3.960000</td>\n",
       "    </tr>\n",
       "    <tr>\n",
       "      <th>max</th>\n",
       "      <td>499.000000</td>\n",
       "      <td>208.000000</td>\n",
       "      <td>8782.911013</td>\n",
       "    </tr>\n",
       "  </tbody>\n",
       "</table>\n",
       "</div>"
      ],
      "text/plain": [
       "         fare_amount  passenger_count   distance(km)\n",
       "count  194345.000000    194345.000000  194345.000000\n",
       "mean       11.355812         1.684844      21.265938\n",
       "std         9.748558         1.388389     385.457571\n",
       "min         0.000000         0.000000       0.000084\n",
       "25%         6.000000         1.000000       1.281834\n",
       "50%         8.500000         1.000000       2.184440\n",
       "75%        12.500000         2.000000       3.960000\n",
       "max       499.000000       208.000000    8782.911013"
      ]
     },
     "execution_count": 20,
     "metadata": {},
     "output_type": "execute_result"
    }
   ],
   "source": [
    "\n",
    "# Generating Statistical Summary of the DataFrame\n",
    "df.describe()"
   ]
  },
  {
   "cell_type": "code",
   "execution_count": 21,
   "id": "c4ce9140-9ec3-46a0-801f-15cf2f8b4ffd",
   "metadata": {},
   "outputs": [
    {
     "data": {
      "text/plain": [
       "0         1\n",
       "1         1\n",
       "2         1\n",
       "3         3\n",
       "4         5\n",
       "         ..\n",
       "199995    1\n",
       "199996    1\n",
       "199997    2\n",
       "199998    1\n",
       "199999    1\n",
       "Name: passenger_count, Length: 194345, dtype: int64"
      ]
     },
     "execution_count": 21,
     "metadata": {},
     "output_type": "execute_result"
    }
   ],
   "source": [
    "# Viewing Passenger Count Data\n",
    "df['passenger_count']"
   ]
  },
  {
   "cell_type": "code",
   "execution_count": 22,
   "id": "824a5e74-b6fd-4f3d-95e1-2f1ae81e79db",
   "metadata": {},
   "outputs": [
    {
     "data": {
      "text/plain": [
       "Index([113038], dtype='int64')"
      ]
     },
     "execution_count": 22,
     "metadata": {},
     "output_type": "execute_result"
    }
   ],
   "source": [
    "\n",
    "# Finding Indices of Rows with 208 Passengers\n",
    "df[df['passenger_count'] == 208].index"
   ]
  },
  {
   "cell_type": "code",
   "execution_count": 23,
   "id": "cbea359c-f948-486e-9535-6ab3ec6cba50",
   "metadata": {},
   "outputs": [],
   "source": [
    "# Removing a Row with 208 Passengers\n",
    "df.drop(df[df['passenger_count'] == 208].index[0],inplace=True) # not logic"
   ]
  },
  {
   "cell_type": "code",
   "execution_count": 24,
   "id": "d2c1d164-66f1-4493-8e29-13645cc6efb3",
   "metadata": {},
   "outputs": [],
   "source": [
    "\n",
    "# Removing Rows with Missing Values\n",
    "df.dropna(inplace=True)"
   ]
  },
  {
   "cell_type": "code",
   "execution_count": 25,
   "id": "ac55dc8b-da5d-4f58-a30b-c3ef3c2e6668",
   "metadata": {},
   "outputs": [
    {
     "data": {
      "text/plain": [
       "array(['2015-05-07 19:52:06 UTC', '2009-07-17 20:04:56 UTC',\n",
       "       '2009-08-24 21:45:00 UTC', ..., '2009-06-29 00:42:00 UTC',\n",
       "       '2015-05-20 14:56:25 UTC', '2010-05-15 04:08:00 UTC'], dtype=object)"
      ]
     },
     "execution_count": 25,
     "metadata": {},
     "output_type": "execute_result"
    }
   ],
   "source": [
    "# Viewing Unique Pickup Datetime Values\n",
    "df['pickup_datetime'].unique()"
   ]
  },
  {
   "cell_type": "code",
   "execution_count": 26,
   "id": "d12ed2d2-1e98-4e79-8f4d-b86c5534f744",
   "metadata": {},
   "outputs": [],
   "source": [
    "#  Extracting Date and Time from a Datetime String\n",
    "def conv(x):\n",
    "    l = x.split(' ')\n",
    "    return l[0]+' '+l[1]\n",
    "\n",
    "# Applying Date and Time Extraction to Pickup Datetime Column\n",
    "df['pickup_datetime'] =df['pickup_datetime'].apply(conv)"
   ]
  },
  {
   "cell_type": "code",
   "execution_count": 27,
   "id": "ef488205-6e03-4a82-a2cb-5b4c63f7ee56",
   "metadata": {},
   "outputs": [
    {
     "data": {
      "text/plain": [
       "array(['2015-05-07 19:52:06', '2009-07-17 20:04:56',\n",
       "       '2009-08-24 21:45:00', ..., '2009-06-29 00:42:00',\n",
       "       '2015-05-20 14:56:25', '2010-05-15 04:08:00'], dtype=object)"
      ]
     },
     "execution_count": 27,
     "metadata": {},
     "output_type": "execute_result"
    }
   ],
   "source": [
    "\n",
    "# Viewing Unique Pickup Datetime Values After Extraction\n",
    "df['pickup_datetime'].unique()"
   ]
  },
  {
   "cell_type": "code",
   "execution_count": 28,
   "id": "be8e11d6-d26b-4963-afcd-9a860214941f",
   "metadata": {},
   "outputs": [],
   "source": [
    "# Converting Pickup Datetime Column to Datetime Format\n",
    "df['pickup_datetime'] = pd.to_datetime(df['pickup_datetime'])"
   ]
  },
  {
   "cell_type": "code",
   "execution_count": 29,
   "id": "8532e458-39db-4e57-abb4-a91f66d323f5",
   "metadata": {},
   "outputs": [],
   "source": [
    "# Extracting Day of the Month from Pickup Datetime\n",
    "df['Day'] = df['pickup_datetime'].dt.day\n",
    "# Extracting Year from Pickup Datetime\n",
    "df['year'] = df['pickup_datetime'].dt.year\n",
    "# Extracting Month from Pickup Datetime\n",
    "df['month'] = df['pickup_datetime'].dt.month\n",
    "# Extracting Hour from Pickup Datetime\n",
    "df['hour'] = df['pickup_datetime'].dt.hour"
   ]
  },
  {
   "cell_type": "code",
   "execution_count": 30,
   "id": "df23ebcc-b352-45df-9008-adde74fb8a1a",
   "metadata": {},
   "outputs": [
    {
     "name": "stdout",
     "output_type": "stream",
     "text": [
      "<class 'pandas.core.frame.DataFrame'>\n",
      "Index: 194344 entries, 0 to 199999\n",
      "Data columns (total 9 columns):\n",
      " #   Column           Non-Null Count   Dtype         \n",
      "---  ------           --------------   -----         \n",
      " 0   key              194344 non-null  object        \n",
      " 1   fare_amount      194344 non-null  float64       \n",
      " 2   pickup_datetime  194344 non-null  datetime64[ns]\n",
      " 3   passenger_count  194344 non-null  int64         \n",
      " 4   distance(km)     194344 non-null  float64       \n",
      " 5   Day              194344 non-null  int32         \n",
      " 6   year             194344 non-null  int32         \n",
      " 7   month            194344 non-null  int32         \n",
      " 8   hour             194344 non-null  int32         \n",
      "dtypes: datetime64[ns](1), float64(2), int32(4), int64(1), object(1)\n",
      "memory usage: 11.9+ MB\n"
     ]
    }
   ],
   "source": [
    "\n",
    "# Displaying DataFrame Summary and Column Information\n",
    "df.info()"
   ]
  },
  {
   "cell_type": "code",
   "execution_count": 31,
   "id": "8ba8206d-8674-4df8-9e27-1f31770858e9",
   "metadata": {},
   "outputs": [
    {
     "data": {
      "text/plain": [
       "0.995    22.071271\n",
       "Name: distance(km), dtype: float64"
      ]
     },
     "execution_count": 31,
     "metadata": {},
     "output_type": "execute_result"
    }
   ],
   "source": [
    "# Calculating the 99.5th Percentile of Distance Values\n",
    "df['distance(km)'].quantile([0.995])"
   ]
  },
  {
   "cell_type": "code",
   "execution_count": 32,
   "id": "b919027d-a43a-455a-82ff-fe96b7eb1d8f",
   "metadata": {},
   "outputs": [
    {
     "data": {
      "text/html": [
       "<div>\n",
       "<style scoped>\n",
       "    .dataframe tbody tr th:only-of-type {\n",
       "        vertical-align: middle;\n",
       "    }\n",
       "\n",
       "    .dataframe tbody tr th {\n",
       "        vertical-align: top;\n",
       "    }\n",
       "\n",
       "    .dataframe thead th {\n",
       "        text-align: right;\n",
       "    }\n",
       "</style>\n",
       "<table border=\"1\" class=\"dataframe\">\n",
       "  <thead>\n",
       "    <tr style=\"text-align: right;\">\n",
       "      <th></th>\n",
       "      <th>key</th>\n",
       "      <th>fare_amount</th>\n",
       "      <th>pickup_datetime</th>\n",
       "      <th>passenger_count</th>\n",
       "      <th>distance(km)</th>\n",
       "      <th>Day</th>\n",
       "      <th>year</th>\n",
       "      <th>month</th>\n",
       "      <th>hour</th>\n",
       "    </tr>\n",
       "  </thead>\n",
       "  <tbody>\n",
       "    <tr>\n",
       "      <th>346</th>\n",
       "      <td>2015-03-05 19:15:07.0000001</td>\n",
       "      <td>15.5</td>\n",
       "      <td>2015-03-05 19:15:07</td>\n",
       "      <td>1</td>\n",
       "      <td>8666.410254</td>\n",
       "      <td>5</td>\n",
       "      <td>2015</td>\n",
       "      <td>3</td>\n",
       "      <td>19</td>\n",
       "    </tr>\n",
       "    <tr>\n",
       "      <th>1067</th>\n",
       "      <td>2014-02-02 22:27:00.000000234</td>\n",
       "      <td>52.0</td>\n",
       "      <td>2014-02-02 22:27:00</td>\n",
       "      <td>1</td>\n",
       "      <td>8647.047814</td>\n",
       "      <td>2</td>\n",
       "      <td>2014</td>\n",
       "      <td>2</td>\n",
       "      <td>22</td>\n",
       "    </tr>\n",
       "    <tr>\n",
       "      <th>1526</th>\n",
       "      <td>2014-05-12 12:00:15.0000002</td>\n",
       "      <td>2.5</td>\n",
       "      <td>2014-05-12 12:00:15</td>\n",
       "      <td>3</td>\n",
       "      <td>8666.784652</td>\n",
       "      <td>12</td>\n",
       "      <td>2014</td>\n",
       "      <td>5</td>\n",
       "      <td>12</td>\n",
       "    </tr>\n",
       "    <tr>\n",
       "      <th>1945</th>\n",
       "      <td>2013-02-10 16:18:00.00000013</td>\n",
       "      <td>7.0</td>\n",
       "      <td>2013-02-10 16:18:00</td>\n",
       "      <td>1</td>\n",
       "      <td>6021.122795</td>\n",
       "      <td>10</td>\n",
       "      <td>2013</td>\n",
       "      <td>2</td>\n",
       "      <td>16</td>\n",
       "    </tr>\n",
       "    <tr>\n",
       "      <th>2167</th>\n",
       "      <td>2012-07-21 12:16:00.000000127</td>\n",
       "      <td>5.7</td>\n",
       "      <td>2012-07-21 12:16:00</td>\n",
       "      <td>1</td>\n",
       "      <td>5941.068194</td>\n",
       "      <td>21</td>\n",
       "      <td>2012</td>\n",
       "      <td>7</td>\n",
       "      <td>12</td>\n",
       "    </tr>\n",
       "    <tr>\n",
       "      <th>...</th>\n",
       "      <td>...</td>\n",
       "      <td>...</td>\n",
       "      <td>...</td>\n",
       "      <td>...</td>\n",
       "      <td>...</td>\n",
       "      <td>...</td>\n",
       "      <td>...</td>\n",
       "      <td>...</td>\n",
       "      <td>...</td>\n",
       "    </tr>\n",
       "    <tr>\n",
       "      <th>198567</th>\n",
       "      <td>2013-10-21 01:28:00.00000010</td>\n",
       "      <td>23.5</td>\n",
       "      <td>2013-10-21 01:28:00</td>\n",
       "      <td>2</td>\n",
       "      <td>8665.759409</td>\n",
       "      <td>21</td>\n",
       "      <td>2013</td>\n",
       "      <td>10</td>\n",
       "      <td>1</td>\n",
       "    </tr>\n",
       "    <tr>\n",
       "      <th>198665</th>\n",
       "      <td>2012-06-26 21:29:00.000000123</td>\n",
       "      <td>20.1</td>\n",
       "      <td>2012-06-26 21:29:00</td>\n",
       "      <td>5</td>\n",
       "      <td>4528.966080</td>\n",
       "      <td>26</td>\n",
       "      <td>2012</td>\n",
       "      <td>6</td>\n",
       "      <td>21</td>\n",
       "    </tr>\n",
       "    <tr>\n",
       "      <th>199403</th>\n",
       "      <td>2013-01-20 17:58:29.0000001</td>\n",
       "      <td>7.0</td>\n",
       "      <td>2013-01-20 17:58:29</td>\n",
       "      <td>1</td>\n",
       "      <td>565.235381</td>\n",
       "      <td>20</td>\n",
       "      <td>2013</td>\n",
       "      <td>1</td>\n",
       "      <td>17</td>\n",
       "    </tr>\n",
       "    <tr>\n",
       "      <th>199641</th>\n",
       "      <td>2012-06-22 12:36:00.00000060</td>\n",
       "      <td>8.1</td>\n",
       "      <td>2012-06-22 12:36:00</td>\n",
       "      <td>5</td>\n",
       "      <td>5419.541409</td>\n",
       "      <td>22</td>\n",
       "      <td>2012</td>\n",
       "      <td>6</td>\n",
       "      <td>12</td>\n",
       "    </tr>\n",
       "    <tr>\n",
       "      <th>199936</th>\n",
       "      <td>2012-07-21 16:19:00.00000099</td>\n",
       "      <td>4.1</td>\n",
       "      <td>2012-07-21 16:19:00</td>\n",
       "      <td>5</td>\n",
       "      <td>4757.222873</td>\n",
       "      <td>21</td>\n",
       "      <td>2012</td>\n",
       "      <td>7</td>\n",
       "      <td>16</td>\n",
       "    </tr>\n",
       "  </tbody>\n",
       "</table>\n",
       "<p>466 rows × 9 columns</p>\n",
       "</div>"
      ],
      "text/plain": [
       "                                  key  fare_amount     pickup_datetime  \\\n",
       "346       2015-03-05 19:15:07.0000001         15.5 2015-03-05 19:15:07   \n",
       "1067    2014-02-02 22:27:00.000000234         52.0 2014-02-02 22:27:00   \n",
       "1526      2014-05-12 12:00:15.0000002          2.5 2014-05-12 12:00:15   \n",
       "1945     2013-02-10 16:18:00.00000013          7.0 2013-02-10 16:18:00   \n",
       "2167    2012-07-21 12:16:00.000000127          5.7 2012-07-21 12:16:00   \n",
       "...                               ...          ...                 ...   \n",
       "198567   2013-10-21 01:28:00.00000010         23.5 2013-10-21 01:28:00   \n",
       "198665  2012-06-26 21:29:00.000000123         20.1 2012-06-26 21:29:00   \n",
       "199403    2013-01-20 17:58:29.0000001          7.0 2013-01-20 17:58:29   \n",
       "199641   2012-06-22 12:36:00.00000060          8.1 2012-06-22 12:36:00   \n",
       "199936   2012-07-21 16:19:00.00000099          4.1 2012-07-21 16:19:00   \n",
       "\n",
       "        passenger_count  distance(km)  Day  year  month  hour  \n",
       "346                   1   8666.410254    5  2015      3    19  \n",
       "1067                  1   8647.047814    2  2014      2    22  \n",
       "1526                  3   8666.784652   12  2014      5    12  \n",
       "1945                  1   6021.122795   10  2013      2    16  \n",
       "2167                  1   5941.068194   21  2012      7    12  \n",
       "...                 ...           ...  ...   ...    ...   ...  \n",
       "198567                2   8665.759409   21  2013     10     1  \n",
       "198665                5   4528.966080   26  2012      6    21  \n",
       "199403                1    565.235381   20  2013      1    17  \n",
       "199641                5   5419.541409   22  2012      6    12  \n",
       "199936                5   4757.222873   21  2012      7    16  \n",
       "\n",
       "[466 rows x 9 columns]"
      ]
     },
     "execution_count": 32,
     "metadata": {},
     "output_type": "execute_result"
    }
   ],
   "source": [
    "\n",
    "# Filtering Rows with Distance Greater Than 100 km\n",
    "df[df['distance(km)'] > 100]"
   ]
  },
  {
   "cell_type": "code",
   "execution_count": 33,
   "id": "39677fe8-af18-4862-917f-ce9debe185be",
   "metadata": {},
   "outputs": [],
   "source": [
    "\n",
    "# Removing Rows with Distance Greater Than 100 km\n",
    "df.drop((df[df['distance(km)'] > 100]).index , inplace= True)"
   ]
  },
  {
   "cell_type": "code",
   "execution_count": 34,
   "id": "1da528f5-6b80-4b4b-8628-92322cc58a9d",
   "metadata": {},
   "outputs": [
    {
     "data": {
      "text/plain": [
       "Index(['key', 'fare_amount', 'pickup_datetime', 'passenger_count',\n",
       "       'distance(km)', 'Day', 'year', 'month', 'hour'],\n",
       "      dtype='object')"
      ]
     },
     "execution_count": 34,
     "metadata": {},
     "output_type": "execute_result"
    }
   ],
   "source": [
    "# Listing All Column Names in the DataFrame\n",
    "df.columns"
   ]
  },
  {
   "cell_type": "code",
   "execution_count": 35,
   "id": "e70d6796-4035-4d93-a86d-99839e8b073f",
   "metadata": {},
   "outputs": [
    {
     "data": {
      "text/plain": [
       "<Axes: xlabel='fare_amount', ylabel='distance(km)'>"
      ]
     },
     "execution_count": 35,
     "metadata": {},
     "output_type": "execute_result"
    },
    {
     "data": {
      "image/png": "[encoded data removed]",
      "text/plain": [
       "<Figure size 2000x1000 with 1 Axes>"
      ]
     },
     "metadata": {},
     "output_type": "display_data"
    }
   ],
   "source": [
    "\n",
    "# Creating a Scatterplot of Fare Amount vs. Distance\n",
    "sns.scatterplot(data=df,x ='fare_amount',y='distance(km)')"
   ]
  },
  {
   "cell_type": "code",
   "execution_count": 36,
   "id": "a6a7541e-c82c-4106-a119-5ceba69d3ce7",
   "metadata": {},
   "outputs": [
    {
     "data": {
      "text/plain": [
       "0          7.5\n",
       "1          7.7\n",
       "2         12.9\n",
       "3          5.3\n",
       "4         16.0\n",
       "          ... \n",
       "199995     3.0\n",
       "199996     7.5\n",
       "199997    30.9\n",
       "199998    14.5\n",
       "199999    14.1\n",
       "Name: fare_amount, Length: 193854, dtype: float64"
      ]
     },
     "execution_count": 36,
     "metadata": {},
     "output_type": "execute_result"
    }
   ],
   "source": [
    "# Removing Rows with Distance Greater Than 60 km and Viewing Fare Amount Column\n",
    "df.drop((df[df['distance(km)'] > 60]).index , inplace= True)\n",
    "df['fare_amount']"
   ]
  },
  {
   "cell_type": "code",
   "execution_count": 37,
   "id": "bbb9ea4a-f802-46e3-86bb-8bb08bd9dbf5",
   "metadata": {},
   "outputs": [
    {
     "data": {
      "text/plain": [
       "<Axes: xlabel='fare_amount', ylabel='distance(km)'>"
      ]
     },
     "execution_count": 37,
     "metadata": {},
     "output_type": "execute_result"
    },
    {
     "data": {
      "image/png": "[encoded data removed]",
      "text/plain": [
       "<Figure size 2000x1000 with 1 Axes>"
      ]
     },
     "metadata": {},
     "output_type": "display_data"
    }
   ],
   "source": [
    "# Remove Rows with Fare Amount Greater Than 300\n",
    "df.drop((df[df['fare_amount'] > 300]).index , inplace= True)\n",
    "# Scatter Plot of Fare Amount vs. Distance\n",
    "sns.scatterplot(data=df,x ='fare_amount',y='distance(km)')"
   ]
  },
  {
   "cell_type": "code",
   "execution_count": 38,
   "id": "6f4d10f4-a95f-4d9f-8fab-4deeabe2eae8",
   "metadata": {},
   "outputs": [],
   "source": [
    "# Remove Rows with Distance Less Than 1 km\n",
    "df.drop((df[df['distance(km)'] < 1]).index , inplace= True)"
   ]
  },
  {
   "cell_type": "code",
   "execution_count": 39,
   "id": "4f5f6646-dc41-4611-a0ea-43801629cac7",
   "metadata": {},
   "outputs": [],
   "source": [
    "# key"
   ]
  },
  {
   "cell_type": "code",
   "execution_count": 40,
   "id": "10307c64-5f41-4181-866f-1747ac315401",
   "metadata": {},
   "outputs": [
    {
     "name": "stdout",
     "output_type": "stream",
     "text": [
      "<class 'pandas.core.frame.DataFrame'>\n",
      "Index: 163594 entries, 0 to 199999\n",
      "Data columns (total 7 columns):\n",
      " #   Column           Non-Null Count   Dtype  \n",
      "---  ------           --------------   -----  \n",
      " 0   fare_amount      163594 non-null  float64\n",
      " 1   passenger_count  163594 non-null  int64  \n",
      " 2   distance(km)     163594 non-null  float64\n",
      " 3   Day              163594 non-null  int32  \n",
      " 4   year             163594 non-null  int32  \n",
      " 5   month            163594 non-null  int32  \n",
      " 6   hour             163594 non-null  int32  \n",
      "dtypes: float64(2), int32(4), int64(1)\n",
      "memory usage: 7.5 MB\n"
     ]
    }
   ],
   "source": [
    "# Drop Columns 'key' and 'pickup_datetime', Then Display DataFrame Information\n",
    "df.drop(columns=['key','pickup_datetime'],axis=1,inplace=True)\n",
    "df.info()"
   ]
  },
  {
   "cell_type": "code",
   "execution_count": 41,
   "id": "88102958-22bd-4b98-9d45-70222f5f54b4",
   "metadata": {},
   "outputs": [
    {
     "data": {
      "text/html": [
       "<div>\n",
       "<style scoped>\n",
       "    .dataframe tbody tr th:only-of-type {\n",
       "        vertical-align: middle;\n",
       "    }\n",
       "\n",
       "    .dataframe tbody tr th {\n",
       "        vertical-align: top;\n",
       "    }\n",
       "\n",
       "    .dataframe thead th {\n",
       "        text-align: right;\n",
       "    }\n",
       "</style>\n",
       "<table border=\"1\" class=\"dataframe\">\n",
       "  <thead>\n",
       "    <tr style=\"text-align: right;\">\n",
       "      <th></th>\n",
       "      <th>fare_amount</th>\n",
       "      <th>passenger_count</th>\n",
       "      <th>distance(km)</th>\n",
       "      <th>Day</th>\n",
       "      <th>year</th>\n",
       "      <th>month</th>\n",
       "      <th>hour</th>\n",
       "    </tr>\n",
       "  </thead>\n",
       "  <tbody>\n",
       "    <tr>\n",
       "      <th>count</th>\n",
       "      <td>163594.000000</td>\n",
       "      <td>163594.000000</td>\n",
       "      <td>163594.000000</td>\n",
       "      <td>163594.000000</td>\n",
       "      <td>163594.000000</td>\n",
       "      <td>163594.000000</td>\n",
       "      <td>163594.000000</td>\n",
       "    </tr>\n",
       "    <tr>\n",
       "      <th>mean</th>\n",
       "      <td>12.393080</td>\n",
       "      <td>1.687440</td>\n",
       "      <td>3.843839</td>\n",
       "      <td>15.719592</td>\n",
       "      <td>2011.751354</td>\n",
       "      <td>6.295469</td>\n",
       "      <td>13.500996</td>\n",
       "    </tr>\n",
       "    <tr>\n",
       "      <th>std</th>\n",
       "      <td>9.801563</td>\n",
       "      <td>1.308031</td>\n",
       "      <td>3.711463</td>\n",
       "      <td>8.683168</td>\n",
       "      <td>1.854939</td>\n",
       "      <td>3.430768</td>\n",
       "      <td>6.590294</td>\n",
       "    </tr>\n",
       "    <tr>\n",
       "      <th>min</th>\n",
       "      <td>0.000000</td>\n",
       "      <td>0.000000</td>\n",
       "      <td>1.000037</td>\n",
       "      <td>1.000000</td>\n",
       "      <td>2009.000000</td>\n",
       "      <td>1.000000</td>\n",
       "      <td>0.000000</td>\n",
       "    </tr>\n",
       "    <tr>\n",
       "      <th>25%</th>\n",
       "      <td>6.900000</td>\n",
       "      <td>1.000000</td>\n",
       "      <td>1.662579</td>\n",
       "      <td>8.000000</td>\n",
       "      <td>2010.000000</td>\n",
       "      <td>3.000000</td>\n",
       "      <td>9.000000</td>\n",
       "    </tr>\n",
       "    <tr>\n",
       "      <th>50%</th>\n",
       "      <td>9.300000</td>\n",
       "      <td>1.000000</td>\n",
       "      <td>2.563281</td>\n",
       "      <td>16.000000</td>\n",
       "      <td>2012.000000</td>\n",
       "      <td>6.000000</td>\n",
       "      <td>14.000000</td>\n",
       "    </tr>\n",
       "    <tr>\n",
       "      <th>75%</th>\n",
       "      <td>13.700000</td>\n",
       "      <td>2.000000</td>\n",
       "      <td>4.446675</td>\n",
       "      <td>23.000000</td>\n",
       "      <td>2013.000000</td>\n",
       "      <td>9.000000</td>\n",
       "      <td>19.000000</td>\n",
       "    </tr>\n",
       "    <tr>\n",
       "      <th>max</th>\n",
       "      <td>230.000000</td>\n",
       "      <td>6.000000</td>\n",
       "      <td>53.066176</td>\n",
       "      <td>31.000000</td>\n",
       "      <td>2015.000000</td>\n",
       "      <td>12.000000</td>\n",
       "      <td>23.000000</td>\n",
       "    </tr>\n",
       "  </tbody>\n",
       "</table>\n",
       "</div>"
      ],
      "text/plain": [
       "         fare_amount  passenger_count   distance(km)            Day  \\\n",
       "count  163594.000000    163594.000000  163594.000000  163594.000000   \n",
       "mean       12.393080         1.687440       3.843839      15.719592   \n",
       "std         9.801563         1.308031       3.711463       8.683168   \n",
       "min         0.000000         0.000000       1.000037       1.000000   \n",
       "25%         6.900000         1.000000       1.662579       8.000000   \n",
       "50%         9.300000         1.000000       2.563281      16.000000   \n",
       "75%        13.700000         2.000000       4.446675      23.000000   \n",
       "max       230.000000         6.000000      53.066176      31.000000   \n",
       "\n",
       "                year          month           hour  \n",
       "count  163594.000000  163594.000000  163594.000000  \n",
       "mean     2011.751354       6.295469      13.500996  \n",
       "std         1.854939       3.430768       6.590294  \n",
       "min      2009.000000       1.000000       0.000000  \n",
       "25%      2010.000000       3.000000       9.000000  \n",
       "50%      2012.000000       6.000000      14.000000  \n",
       "75%      2013.000000       9.000000      19.000000  \n",
       "max      2015.000000      12.000000      23.000000  "
      ]
     },
     "execution_count": 41,
     "metadata": {},
     "output_type": "execute_result"
    }
   ],
   "source": [
    "\n",
    "# Summary Statistics of DataFrame\n",
    "df.describe()"
   ]
  },
  {
   "cell_type": "code",
   "execution_count": 42,
   "id": "0bdd264b-1da2-48fe-8fd5-6cf654c474ab",
   "metadata": {},
   "outputs": [
    {
     "data": {
      "text/html": [
       "<div>\n",
       "<style scoped>\n",
       "    .dataframe tbody tr th:only-of-type {\n",
       "        vertical-align: middle;\n",
       "    }\n",
       "\n",
       "    .dataframe tbody tr th {\n",
       "        vertical-align: top;\n",
       "    }\n",
       "\n",
       "    .dataframe thead th {\n",
       "        text-align: right;\n",
       "    }\n",
       "</style>\n",
       "<table border=\"1\" class=\"dataframe\">\n",
       "  <thead>\n",
       "    <tr style=\"text-align: right;\">\n",
       "      <th></th>\n",
       "      <th>fare_amount</th>\n",
       "      <th>passenger_count</th>\n",
       "      <th>distance(km)</th>\n",
       "      <th>Day</th>\n",
       "      <th>year</th>\n",
       "      <th>month</th>\n",
       "      <th>hour</th>\n",
       "    </tr>\n",
       "  </thead>\n",
       "  <tbody>\n",
       "    <tr>\n",
       "      <th>0</th>\n",
       "      <td>7.5</td>\n",
       "      <td>1</td>\n",
       "      <td>1.683325</td>\n",
       "      <td>7</td>\n",
       "      <td>2015</td>\n",
       "      <td>5</td>\n",
       "      <td>19</td>\n",
       "    </tr>\n",
       "    <tr>\n",
       "      <th>1</th>\n",
       "      <td>7.7</td>\n",
       "      <td>1</td>\n",
       "      <td>2.457593</td>\n",
       "      <td>17</td>\n",
       "      <td>2009</td>\n",
       "      <td>7</td>\n",
       "      <td>20</td>\n",
       "    </tr>\n",
       "    <tr>\n",
       "      <th>2</th>\n",
       "      <td>12.9</td>\n",
       "      <td>1</td>\n",
       "      <td>5.036384</td>\n",
       "      <td>24</td>\n",
       "      <td>2009</td>\n",
       "      <td>8</td>\n",
       "      <td>21</td>\n",
       "    </tr>\n",
       "    <tr>\n",
       "      <th>3</th>\n",
       "      <td>5.3</td>\n",
       "      <td>3</td>\n",
       "      <td>1.661686</td>\n",
       "      <td>26</td>\n",
       "      <td>2009</td>\n",
       "      <td>6</td>\n",
       "      <td>8</td>\n",
       "    </tr>\n",
       "    <tr>\n",
       "      <th>4</th>\n",
       "      <td>16.0</td>\n",
       "      <td>5</td>\n",
       "      <td>4.475456</td>\n",
       "      <td>28</td>\n",
       "      <td>2014</td>\n",
       "      <td>8</td>\n",
       "      <td>17</td>\n",
       "    </tr>\n",
       "  </tbody>\n",
       "</table>\n",
       "</div>"
      ],
      "text/plain": [
       "   fare_amount  passenger_count  distance(km)  Day  year  month  hour\n",
       "0          7.5                1      1.683325    7  2015      5    19\n",
       "1          7.7                1      2.457593   17  2009      7    20\n",
       "2         12.9                1      5.036384   24  2009      8    21\n",
       "3          5.3                3      1.661686   26  2009      6     8\n",
       "4         16.0                5      4.475456   28  2014      8    17"
      ]
     },
     "execution_count": 42,
     "metadata": {},
     "output_type": "execute_result"
    }
   ],
   "source": [
    "# Preview First Few Rows of DataFrame\n",
    "df.head()"
   ]
  },
  {
   "cell_type": "code",
   "execution_count": 43,
   "id": "40782b71-6de5-4746-80ac-a5666481325f",
   "metadata": {},
   "outputs": [
    {
     "data": {
      "text/html": [
       "<div>\n",
       "<style scoped>\n",
       "    .dataframe tbody tr th:only-of-type {\n",
       "        vertical-align: middle;\n",
       "    }\n",
       "\n",
       "    .dataframe tbody tr th {\n",
       "        vertical-align: top;\n",
       "    }\n",
       "\n",
       "    .dataframe thead th {\n",
       "        text-align: right;\n",
       "    }\n",
       "</style>\n",
       "<table border=\"1\" class=\"dataframe\">\n",
       "  <thead>\n",
       "    <tr style=\"text-align: right;\">\n",
       "      <th></th>\n",
       "      <th>fare_amount</th>\n",
       "      <th>passenger_count</th>\n",
       "      <th>distance(km)</th>\n",
       "      <th>Day</th>\n",
       "      <th>year</th>\n",
       "      <th>month</th>\n",
       "      <th>hour</th>\n",
       "    </tr>\n",
       "  </thead>\n",
       "  <tbody>\n",
       "    <tr>\n",
       "      <th>0.01</th>\n",
       "      <td>4.10</td>\n",
       "      <td>1.0</td>\n",
       "      <td>1.025788</td>\n",
       "      <td>1.0</td>\n",
       "      <td>2009.0</td>\n",
       "      <td>1.0</td>\n",
       "      <td>0.0</td>\n",
       "    </tr>\n",
       "    <tr>\n",
       "      <th>0.25</th>\n",
       "      <td>6.90</td>\n",
       "      <td>1.0</td>\n",
       "      <td>1.662579</td>\n",
       "      <td>8.0</td>\n",
       "      <td>2010.0</td>\n",
       "      <td>3.0</td>\n",
       "      <td>9.0</td>\n",
       "    </tr>\n",
       "    <tr>\n",
       "      <th>0.50</th>\n",
       "      <td>9.30</td>\n",
       "      <td>1.0</td>\n",
       "      <td>2.563281</td>\n",
       "      <td>16.0</td>\n",
       "      <td>2012.0</td>\n",
       "      <td>6.0</td>\n",
       "      <td>14.0</td>\n",
       "    </tr>\n",
       "    <tr>\n",
       "      <th>0.75</th>\n",
       "      <td>13.70</td>\n",
       "      <td>2.0</td>\n",
       "      <td>4.446675</td>\n",
       "      <td>23.0</td>\n",
       "      <td>2013.0</td>\n",
       "      <td>9.0</td>\n",
       "      <td>19.0</td>\n",
       "    </tr>\n",
       "    <tr>\n",
       "      <th>0.90</th>\n",
       "      <td>22.10</td>\n",
       "      <td>4.0</td>\n",
       "      <td>7.835997</td>\n",
       "      <td>28.0</td>\n",
       "      <td>2014.0</td>\n",
       "      <td>11.0</td>\n",
       "      <td>22.0</td>\n",
       "    </tr>\n",
       "    <tr>\n",
       "      <th>0.95</th>\n",
       "      <td>32.10</td>\n",
       "      <td>5.0</td>\n",
       "      <td>10.761574</td>\n",
       "      <td>29.0</td>\n",
       "      <td>2015.0</td>\n",
       "      <td>12.0</td>\n",
       "      <td>23.0</td>\n",
       "    </tr>\n",
       "    <tr>\n",
       "      <th>0.97</th>\n",
       "      <td>41.00</td>\n",
       "      <td>5.0</td>\n",
       "      <td>14.500613</td>\n",
       "      <td>30.0</td>\n",
       "      <td>2015.0</td>\n",
       "      <td>12.0</td>\n",
       "      <td>23.0</td>\n",
       "    </tr>\n",
       "    <tr>\n",
       "      <th>0.98</th>\n",
       "      <td>49.57</td>\n",
       "      <td>6.0</td>\n",
       "      <td>18.638355</td>\n",
       "      <td>30.0</td>\n",
       "      <td>2015.0</td>\n",
       "      <td>12.0</td>\n",
       "      <td>23.0</td>\n",
       "    </tr>\n",
       "    <tr>\n",
       "      <th>0.99</th>\n",
       "      <td>56.80</td>\n",
       "      <td>6.0</td>\n",
       "      <td>20.612858</td>\n",
       "      <td>31.0</td>\n",
       "      <td>2015.0</td>\n",
       "      <td>12.0</td>\n",
       "      <td>23.0</td>\n",
       "    </tr>\n",
       "    <tr>\n",
       "      <th>1.00</th>\n",
       "      <td>230.00</td>\n",
       "      <td>6.0</td>\n",
       "      <td>53.066176</td>\n",
       "      <td>31.0</td>\n",
       "      <td>2015.0</td>\n",
       "      <td>12.0</td>\n",
       "      <td>23.0</td>\n",
       "    </tr>\n",
       "  </tbody>\n",
       "</table>\n",
       "</div>"
      ],
      "text/plain": [
       "      fare_amount  passenger_count  distance(km)   Day    year  month  hour\n",
       "0.01         4.10              1.0      1.025788   1.0  2009.0    1.0   0.0\n",
       "0.25         6.90              1.0      1.662579   8.0  2010.0    3.0   9.0\n",
       "0.50         9.30              1.0      2.563281  16.0  2012.0    6.0  14.0\n",
       "0.75        13.70              2.0      4.446675  23.0  2013.0    9.0  19.0\n",
       "0.90        22.10              4.0      7.835997  28.0  2014.0   11.0  22.0\n",
       "0.95        32.10              5.0     10.761574  29.0  2015.0   12.0  23.0\n",
       "0.97        41.00              5.0     14.500613  30.0  2015.0   12.0  23.0\n",
       "0.98        49.57              6.0     18.638355  30.0  2015.0   12.0  23.0\n",
       "0.99        56.80              6.0     20.612858  31.0  2015.0   12.0  23.0\n",
       "1.00       230.00              6.0     53.066176  31.0  2015.0   12.0  23.0"
      ]
     },
     "execution_count": 43,
     "metadata": {},
     "output_type": "execute_result"
    }
   ],
   "source": [
    "# Quantiles of DataFrame at Various Percentiles\n",
    "df.quantile([0.01,0.25,0.5,0.75,0.9,0.95,0.97,0.98,0.99,1])"
   ]
  },
  {
   "cell_type": "code",
   "execution_count": 44,
   "id": "6059332c-c23a-4578-a523-15afe24824b3",
   "metadata": {},
   "outputs": [
    {
     "data": {
      "text/html": [
       "<div>\n",
       "<style scoped>\n",
       "    .dataframe tbody tr th:only-of-type {\n",
       "        vertical-align: middle;\n",
       "    }\n",
       "\n",
       "    .dataframe tbody tr th {\n",
       "        vertical-align: top;\n",
       "    }\n",
       "\n",
       "    .dataframe thead th {\n",
       "        text-align: right;\n",
       "    }\n",
       "</style>\n",
       "<table border=\"1\" class=\"dataframe\">\n",
       "  <thead>\n",
       "    <tr style=\"text-align: right;\">\n",
       "      <th></th>\n",
       "      <th>fare_amount</th>\n",
       "      <th>passenger_count</th>\n",
       "      <th>distance(km)</th>\n",
       "      <th>Day</th>\n",
       "      <th>year</th>\n",
       "      <th>month</th>\n",
       "      <th>hour</th>\n",
       "    </tr>\n",
       "  </thead>\n",
       "  <tbody>\n",
       "    <tr>\n",
       "      <th>880</th>\n",
       "      <td>93.16</td>\n",
       "      <td>2</td>\n",
       "      <td>32.779950</td>\n",
       "      <td>18</td>\n",
       "      <td>2013</td>\n",
       "      <td>6</td>\n",
       "      <td>15</td>\n",
       "    </tr>\n",
       "    <tr>\n",
       "      <th>966</th>\n",
       "      <td>69.25</td>\n",
       "      <td>1</td>\n",
       "      <td>19.491584</td>\n",
       "      <td>20</td>\n",
       "      <td>2015</td>\n",
       "      <td>2</td>\n",
       "      <td>10</td>\n",
       "    </tr>\n",
       "    <tr>\n",
       "      <th>1876</th>\n",
       "      <td>73.00</td>\n",
       "      <td>2</td>\n",
       "      <td>17.779333</td>\n",
       "      <td>24</td>\n",
       "      <td>2014</td>\n",
       "      <td>11</td>\n",
       "      <td>7</td>\n",
       "    </tr>\n",
       "    <tr>\n",
       "      <th>2721</th>\n",
       "      <td>62.70</td>\n",
       "      <td>1</td>\n",
       "      <td>20.299941</td>\n",
       "      <td>23</td>\n",
       "      <td>2011</td>\n",
       "      <td>4</td>\n",
       "      <td>6</td>\n",
       "    </tr>\n",
       "    <tr>\n",
       "      <th>3122</th>\n",
       "      <td>80.50</td>\n",
       "      <td>1</td>\n",
       "      <td>15.118045</td>\n",
       "      <td>14</td>\n",
       "      <td>2014</td>\n",
       "      <td>3</td>\n",
       "      <td>16</td>\n",
       "    </tr>\n",
       "    <tr>\n",
       "      <th>...</th>\n",
       "      <td>...</td>\n",
       "      <td>...</td>\n",
       "      <td>...</td>\n",
       "      <td>...</td>\n",
       "      <td>...</td>\n",
       "      <td>...</td>\n",
       "      <td>...</td>\n",
       "    </tr>\n",
       "    <tr>\n",
       "      <th>197570</th>\n",
       "      <td>75.00</td>\n",
       "      <td>1</td>\n",
       "      <td>28.574827</td>\n",
       "      <td>12</td>\n",
       "      <td>2012</td>\n",
       "      <td>11</td>\n",
       "      <td>11</td>\n",
       "    </tr>\n",
       "    <tr>\n",
       "      <th>197659</th>\n",
       "      <td>75.00</td>\n",
       "      <td>2</td>\n",
       "      <td>16.625447</td>\n",
       "      <td>7</td>\n",
       "      <td>2014</td>\n",
       "      <td>11</td>\n",
       "      <td>14</td>\n",
       "    </tr>\n",
       "    <tr>\n",
       "      <th>197698</th>\n",
       "      <td>74.90</td>\n",
       "      <td>1</td>\n",
       "      <td>15.343481</td>\n",
       "      <td>25</td>\n",
       "      <td>2014</td>\n",
       "      <td>11</td>\n",
       "      <td>9</td>\n",
       "    </tr>\n",
       "    <tr>\n",
       "      <th>198899</th>\n",
       "      <td>86.25</td>\n",
       "      <td>1</td>\n",
       "      <td>18.772437</td>\n",
       "      <td>2</td>\n",
       "      <td>2015</td>\n",
       "      <td>3</td>\n",
       "      <td>12</td>\n",
       "    </tr>\n",
       "    <tr>\n",
       "      <th>199055</th>\n",
       "      <td>89.10</td>\n",
       "      <td>1</td>\n",
       "      <td>19.419331</td>\n",
       "      <td>30</td>\n",
       "      <td>2014</td>\n",
       "      <td>6</td>\n",
       "      <td>8</td>\n",
       "    </tr>\n",
       "  </tbody>\n",
       "</table>\n",
       "<p>442 rows × 7 columns</p>\n",
       "</div>"
      ],
      "text/plain": [
       "        fare_amount  passenger_count  distance(km)  Day  year  month  hour\n",
       "880           93.16                2     32.779950   18  2013      6    15\n",
       "966           69.25                1     19.491584   20  2015      2    10\n",
       "1876          73.00                2     17.779333   24  2014     11     7\n",
       "2721          62.70                1     20.299941   23  2011      4     6\n",
       "3122          80.50                1     15.118045   14  2014      3    16\n",
       "...             ...              ...           ...  ...   ...    ...   ...\n",
       "197570        75.00                1     28.574827   12  2012     11    11\n",
       "197659        75.00                2     16.625447    7  2014     11    14\n",
       "197698        74.90                1     15.343481   25  2014     11     9\n",
       "198899        86.25                1     18.772437    2  2015      3    12\n",
       "199055        89.10                1     19.419331   30  2014      6     8\n",
       "\n",
       "[442 rows x 7 columns]"
      ]
     },
     "execution_count": 44,
     "metadata": {},
     "output_type": "execute_result"
    }
   ],
   "source": [
    "# Filter Rows with Fare Amount Greater Than 60\n",
    "df[df['fare_amount'] > 60]"
   ]
  },
  {
   "cell_type": "code",
   "execution_count": 45,
   "id": "45f09758-9e02-4418-9d6c-2bb6ccb59ae7",
   "metadata": {},
   "outputs": [
    {
     "data": {
      "text/plain": [
       "(163594, 7)"
      ]
     },
     "execution_count": 45,
     "metadata": {},
     "output_type": "execute_result"
    }
   ],
   "source": [
    "\n",
    "# Display DataFrame Dimensions\n",
    "df.shape"
   ]
  },
  {
   "cell_type": "code",
   "execution_count": 46,
   "id": "5f97337f-d714-421d-ba4c-6257456694d9",
   "metadata": {},
   "outputs": [
    {
     "data": {
      "text/html": [
       "<div>\n",
       "<style scoped>\n",
       "    .dataframe tbody tr th:only-of-type {\n",
       "        vertical-align: middle;\n",
       "    }\n",
       "\n",
       "    .dataframe tbody tr th {\n",
       "        vertical-align: top;\n",
       "    }\n",
       "\n",
       "    .dataframe thead th {\n",
       "        text-align: right;\n",
       "    }\n",
       "</style>\n",
       "<table border=\"1\" class=\"dataframe\">\n",
       "  <thead>\n",
       "    <tr style=\"text-align: right;\">\n",
       "      <th></th>\n",
       "      <th>fare_amount</th>\n",
       "      <th>passenger_count</th>\n",
       "      <th>distance(km)</th>\n",
       "      <th>Day</th>\n",
       "      <th>year</th>\n",
       "      <th>month</th>\n",
       "      <th>hour</th>\n",
       "    </tr>\n",
       "  </thead>\n",
       "  <tbody>\n",
       "    <tr>\n",
       "      <th>5603</th>\n",
       "      <td>58.50</td>\n",
       "      <td>2</td>\n",
       "      <td>24.533163</td>\n",
       "      <td>5</td>\n",
       "      <td>2015</td>\n",
       "      <td>2</td>\n",
       "      <td>13</td>\n",
       "    </tr>\n",
       "    <tr>\n",
       "      <th>6888</th>\n",
       "      <td>56.80</td>\n",
       "      <td>3</td>\n",
       "      <td>23.258273</td>\n",
       "      <td>6</td>\n",
       "      <td>2012</td>\n",
       "      <td>11</td>\n",
       "      <td>5</td>\n",
       "    </tr>\n",
       "    <tr>\n",
       "      <th>9902</th>\n",
       "      <td>49.80</td>\n",
       "      <td>1</td>\n",
       "      <td>23.849674</td>\n",
       "      <td>22</td>\n",
       "      <td>2011</td>\n",
       "      <td>5</td>\n",
       "      <td>12</td>\n",
       "    </tr>\n",
       "    <tr>\n",
       "      <th>11542</th>\n",
       "      <td>49.80</td>\n",
       "      <td>1</td>\n",
       "      <td>23.210772</td>\n",
       "      <td>3</td>\n",
       "      <td>2012</td>\n",
       "      <td>6</td>\n",
       "      <td>7</td>\n",
       "    </tr>\n",
       "    <tr>\n",
       "      <th>13471</th>\n",
       "      <td>52.00</td>\n",
       "      <td>1</td>\n",
       "      <td>25.336880</td>\n",
       "      <td>24</td>\n",
       "      <td>2013</td>\n",
       "      <td>5</td>\n",
       "      <td>13</td>\n",
       "    </tr>\n",
       "    <tr>\n",
       "      <th>...</th>\n",
       "      <td>...</td>\n",
       "      <td>...</td>\n",
       "      <td>...</td>\n",
       "      <td>...</td>\n",
       "      <td>...</td>\n",
       "      <td>...</td>\n",
       "      <td>...</td>\n",
       "    </tr>\n",
       "    <tr>\n",
       "      <th>197026</th>\n",
       "      <td>57.33</td>\n",
       "      <td>1</td>\n",
       "      <td>23.277547</td>\n",
       "      <td>3</td>\n",
       "      <td>2014</td>\n",
       "      <td>10</td>\n",
       "      <td>12</td>\n",
       "    </tr>\n",
       "    <tr>\n",
       "      <th>197645</th>\n",
       "      <td>49.80</td>\n",
       "      <td>1</td>\n",
       "      <td>23.142562</td>\n",
       "      <td>30</td>\n",
       "      <td>2011</td>\n",
       "      <td>11</td>\n",
       "      <td>20</td>\n",
       "    </tr>\n",
       "    <tr>\n",
       "      <th>199728</th>\n",
       "      <td>49.15</td>\n",
       "      <td>1</td>\n",
       "      <td>23.518735</td>\n",
       "      <td>19</td>\n",
       "      <td>2009</td>\n",
       "      <td>2</td>\n",
       "      <td>6</td>\n",
       "    </tr>\n",
       "    <tr>\n",
       "      <th>199882</th>\n",
       "      <td>49.57</td>\n",
       "      <td>1</td>\n",
       "      <td>23.095770</td>\n",
       "      <td>1</td>\n",
       "      <td>2010</td>\n",
       "      <td>7</td>\n",
       "      <td>5</td>\n",
       "    </tr>\n",
       "    <tr>\n",
       "      <th>199976</th>\n",
       "      <td>49.70</td>\n",
       "      <td>1</td>\n",
       "      <td>24.895430</td>\n",
       "      <td>18</td>\n",
       "      <td>2011</td>\n",
       "      <td>10</td>\n",
       "      <td>23</td>\n",
       "    </tr>\n",
       "  </tbody>\n",
       "</table>\n",
       "<p>168 rows × 7 columns</p>\n",
       "</div>"
      ],
      "text/plain": [
       "        fare_amount  passenger_count  distance(km)  Day  year  month  hour\n",
       "5603          58.50                2     24.533163    5  2015      2    13\n",
       "6888          56.80                3     23.258273    6  2012     11     5\n",
       "9902          49.80                1     23.849674   22  2011      5    12\n",
       "11542         49.80                1     23.210772    3  2012      6     7\n",
       "13471         52.00                1     25.336880   24  2013      5    13\n",
       "...             ...              ...           ...  ...   ...    ...   ...\n",
       "197026        57.33                1     23.277547    3  2014     10    12\n",
       "197645        49.80                1     23.142562   30  2011     11    20\n",
       "199728        49.15                1     23.518735   19  2009      2     6\n",
       "199882        49.57                1     23.095770    1  2010      7     5\n",
       "199976        49.70                1     24.895430   18  2011     10    23\n",
       "\n",
       "[168 rows x 7 columns]"
      ]
     },
     "execution_count": 46,
     "metadata": {},
     "output_type": "execute_result"
    }
   ],
   "source": [
    "# Remove Rows with Fare Amount Greater Than 60\n",
    "df.drop(df[df['fare_amount'] > 60].index,inplace=True)\n",
    "# Filter Rows with Distance Greater Than 23 km\n",
    "df[df['distance(km)'] > 23]"
   ]
  },
  {
   "cell_type": "code",
   "execution_count": 47,
   "id": "fd5fb017-6aaf-45db-a821-85d86cff24f7",
   "metadata": {},
   "outputs": [],
   "source": [
    "# Remove Rows with Distance Greater Than 23 km\n",
    "df.drop(df[df['distance(km)'] > 23].index,inplace =True)"
   ]
  },
  {
   "cell_type": "code",
   "execution_count": 48,
   "id": "66bd2af3-8bf0-4fc5-90ff-9307063f27b1",
   "metadata": {},
   "outputs": [
    {
     "data": {
      "text/plain": [
       "fare_amount        100.000000\n",
       "passenger_count      1.554349\n",
       "distance(km)        90.675952\n",
       "Day                 -0.193364\n",
       "year                13.802032\n",
       "month                2.467781\n",
       "hour                -2.255233\n",
       "Name: fare_amount, dtype: float64"
      ]
     },
     "execution_count": 48,
     "metadata": {},
     "output_type": "execute_result"
    }
   ],
   "source": [
    "\n",
    "# Correlation of 'fare_amount' with Other Variables, Multiplied by 100\n",
    "(df.corr()['fare_amount'])*100"
   ]
  },
  {
   "cell_type": "code",
   "execution_count": 49,
   "id": "b4b6ad6f-e169-4d0b-91a1-3c461c48c01b",
   "metadata": {},
   "outputs": [],
   "source": [
    "# Save DataFrame to 'Clean_data.csv\n",
    "df.to_csv('Clean_data.csv')"
   ]
  },
  {
   "cell_type": "code",
   "execution_count": 50,
   "id": "4fc030e8-7acd-4e18-a0bd-9a985a12e106",
   "metadata": {},
   "outputs": [],
   "source": [
    "# Train, Test split"
   ]
  },
  {
   "cell_type": "code",
   "execution_count": 51,
   "id": "7128990f-0854-4750-a444-6134494c7866",
   "metadata": {},
   "outputs": [],
   "source": [
    "# Import Train-Test Split Function from Scikit-Learn\n",
    "from sklearn.model_selection import train_test_split\n",
    "# Define Features by Dropping 'fare_amount' Column\n",
    "x = df.drop(['fare_amount'],axis= 1 )\n",
    "# Define Target Variable 'fare_amount\n",
    "y = df['fare_amount']\n",
    "# Split Data into Training and Testing Sets\n",
    "x_train , x_test , y_train , y_test = train_test_split(x,y,test_size= 0.15 ,random_state=40)"
   ]
  },
  {
   "cell_type": "code",
   "execution_count": 52,
   "id": "281d2c91-7408-4b7f-8ae7-f63485ae17d0",
   "metadata": {},
   "outputs": [],
   "source": [
    "# Scale Features Using RobustScaler on Training and Testing Data"
   ]
  },
  {
   "cell_type": "code",
   "execution_count": 53,
   "id": "83a504e6-0f4e-49c2-876f-1fddc36913a2",
   "metadata": {},
   "outputs": [],
   "source": [
    "\n",
    "from sklearn.preprocessing import RobustScaler\n",
    "scale = RobustScaler()\n",
    "scale.fit(x_train)\n",
    "scaled_x_train = scale.transform(x_train)\n",
    "scaled_x_test = scale.transform(x_test)"
   ]
  },
  {
   "cell_type": "code",
   "execution_count": 54,
   "id": "c7abe07f-9ab6-4328-bd88-4f6ce9c4e967",
   "metadata": {},
   "outputs": [],
   "source": [
    "# Train Linear Regression Model and Evaluate Accuracy on Test Set"
   ]
  },
  {
   "cell_type": "code",
   "execution_count": 55,
   "id": "e37bb891-16d9-4b58-8516-f7a867afbfc5",
   "metadata": {},
   "outputs": [
    {
     "data": {
      "text/plain": [
       "0.8346747199330082"
      ]
     },
     "execution_count": 55,
     "metadata": {},
     "output_type": "execute_result"
    }
   ],
   "source": [
    "from sklearn.linear_model import LinearRegression\n",
    "lr = LinearRegression()\n",
    "lr.fit(scaled_x_train,y_train)\n",
    "lr.score(scaled_x_test,y_test)\n"
   ]
  },
  {
   "cell_type": "code",
   "execution_count": 56,
   "id": "92f390a1-e9fe-4de8-8f56-06cc1ba6246a",
   "metadata": {},
   "outputs": [],
   "source": [
    "# Calculate R² Score for Linear Regression Model"
   ]
  },
  {
   "cell_type": "code",
   "execution_count": 57,
   "id": "03253782-6905-4e2a-825f-f35331d3dd21",
   "metadata": {},
   "outputs": [
    {
     "data": {
      "text/plain": [
       "0.8346747199330082"
      ]
     },
     "execution_count": 57,
     "metadata": {},
     "output_type": "execute_result"
    }
   ],
   "source": [
    "from sklearn.metrics import r2_score\n",
    "y_pred = lr.predict(scaled_x_test)\n",
    "r2_score(y_test,y_pred)"
   ]
  },
  {
   "cell_type": "code",
   "execution_count": 58,
   "id": "057671bd-1a95-4115-9887-e4f9eda8ec7f",
   "metadata": {},
   "outputs": [],
   "source": [
    "# Train Ridge Regression Model and Evaluate R² Score on Test Set"
   ]
  },
  {
   "cell_type": "code",
   "execution_count": 59,
   "id": "2aabc74d-36a3-42d4-9158-6805fe8ffcb4",
   "metadata": {},
   "outputs": [
    {
     "data": {
      "text/plain": [
       "0.8346747314292092"
      ]
     },
     "execution_count": 59,
     "metadata": {},
     "output_type": "execute_result"
    }
   ],
   "source": [
    "\n",
    "from sklearn.linear_model import Ridge\n",
    "from sklearn.metrics import r2_score\n",
    "ridge = Ridge()\n",
    "ridge.fit(scaled_x_train,y_train)\n",
    "y_pred = ridge.predict(scaled_x_test)\n",
    "r2_score(y_test,y_pred)"
   ]
  },
  {
   "cell_type": "code",
   "execution_count": 60,
   "id": "e297f410-9632-4fb9-80f9-6e929702b804",
   "metadata": {},
   "outputs": [],
   "source": [
    "# Train Polynomial Regression Model with Ridge Regularization and Evaluate R² Score on Test Set"
   ]
  },
  {
   "cell_type": "code",
   "execution_count": 61,
   "id": "ceb9ea6f-e698-4f31-9ecf-3cd61a70080d",
   "metadata": {},
   "outputs": [
    {
     "data": {
      "text/plain": [
       "0.847632404895845"
      ]
     },
     "execution_count": 61,
     "metadata": {},
     "output_type": "execute_result"
    }
   ],
   "source": [
    "from sklearn.preprocessing import PolynomialFeatures\n",
    "from sklearn.pipeline import make_pipeline\n",
    "\n",
    "poly = make_pipeline(PolynomialFeatures(degree = 2),Ridge())\n",
    "poly.fit(scaled_x_train,y_train)\n",
    "y_pred = poly.predict(scaled_x_test)\n",
    "r2_score(y_test,y_pred)"
   ]
  },
  {
   "cell_type": "code",
   "execution_count": 62,
   "id": "93e90f71-f9d0-45ac-810b-6e367ee098d2",
   "metadata": {},
   "outputs": [],
   "source": [
    "# Save Polynomial Regression Model to 'model.pkl"
   ]
  },
  {
   "cell_type": "code",
   "execution_count": 63,
   "id": "c293a198-6e6a-4f10-87c4-77a49e71b2f0",
   "metadata": {},
   "outputs": [],
   "source": [
    "import pickle \n",
    "pickle.dump(poly,open('model.pkl','wb'))"
   ]
  },
  {
   "cell_type": "code",
   "execution_count": 64,
   "id": "d3c26542-953d-4492-9d37-9a4db5617693",
   "metadata": {},
   "outputs": [],
   "source": [
    "# Save Scaler to 'scale.pkl'"
   ]
  },
  {
   "cell_type": "code",
   "execution_count": 65,
   "id": "6fe98ae7-e96b-40e3-a9b7-e4a075def23a",
   "metadata": {},
   "outputs": [],
   "source": [
    "pickle.dump(scale,open('scale.pkl','wb'))"
   ]
  },
  {
   "cell_type": "code",
   "execution_count": null,
   "id": "350c40f4-e77e-4bfa-ba0e-b9b622eb374a",
   "metadata": {},
   "outputs": [],
   "source": []
  }
 ],
 "metadata": {
  "kernelspec": {
   "display_name": "Python 3 (ipykernel)",
   "language": "python",
   "name": "python3"
  },
  "language_info": {
   "codemirror_mode": {
    "name": "ipython",
    "version": 3
   },
   "file_extension": ".py",
   "mimetype": "text/x-python",
   "name": "python",
   "nbconvert_exporter": "python",
   "pygments_lexer": "ipython3",
   "version": "3.11.7"
  }
 },
 "nbformat": 4,
 "nbformat_minor": 5
}
